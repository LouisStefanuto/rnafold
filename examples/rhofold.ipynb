{
 "cells": [
  {
   "cell_type": "code",
   "execution_count": null,
   "metadata": {},
   "outputs": [],
   "source": [
    "import pandas as pd\n",
    "\n",
    "from rnafold.config import Settings\n",
    "from rnafold.rhofold.main import process_csv\n",
    "\n",
    "csv_path = Settings.sequences.test\n",
    "csv_path = \"../data/test_sequences-small.csv\"\n",
    "output_folder = \"fastas-small\"\n",
    "\n",
    "fasta = pd.read_csv(csv_path)\n",
    "process_csv(fasta, output_folder)"
   ]
  },
  {
   "cell_type": "code",
   "execution_count": null,
   "metadata": {},
   "outputs": [],
   "source": [
    "from pathlib import Path\n",
    "\n",
    "from rnafold.rhofold.main import predict_rna_structures\n",
    "\n",
    "kwargs = {\"relax_steps\": 1}\n",
    "\n",
    "execution_times = predict_rna_structures(\n",
    "    fasta_dir=Path(\"./fastas-small/\"),\n",
    "    output_dir=Path(\"./outputs_rhofold-small/\"),\n",
    "    **kwargs,\n",
    ")\n",
    "\n",
    "execution_times"
   ]
  },
  {
   "cell_type": "code",
   "execution_count": null,
   "metadata": {},
   "outputs": [],
   "source": [
    "from rnafold.pdb import parse_pdb_to_df\n",
    "\n",
    "# Example for one sequence:\n",
    "i = \"R1107\"\n",
    "relax_pdb = f\"./outputs_rhofold-small/{i}/relaxed_1_model.pdb\"\n",
    "unrelax_pdb = f\"./outputs_rhofold-small/{i}/unrelaxed_model.pdb\"\n",
    "\n",
    "predict_relax_df = parse_pdb_to_df(relax_pdb, i)\n",
    "predict_unrelax_df = parse_pdb_to_df(unrelax_pdb, i)\n",
    "\n",
    "assert len(predict_relax_df) == 1\n",
    "assert len(predict_unrelax_df) == 1\n",
    "\n",
    "predict_relax_df = predict_relax_df[0]\n",
    "predict_unrelax_df = predict_unrelax_df[0]\n",
    "\n",
    "predict_relax_df"
   ]
  },
  {
   "cell_type": "code",
   "execution_count": null,
   "metadata": {},
   "outputs": [],
   "source": [
    "from rnafold.pdb import parse_pdb_to_df\n",
    "\n",
    "predictions = []\n",
    "\n",
    "for target_id in fasta[\"target_id\"]:\n",
    "    relax_pdb = f\"./outputs_rhofold-small/{target_id}/relaxed_1_model.pdb\"\n",
    "    prediction = parse_pdb_to_df(relax_pdb, target_id)\n",
    "\n",
    "    assert len(prediction) == 1\n",
    "    prediction = prediction[0]\n",
    "\n",
    "    # display(prediction)\n",
    "    predictions.append(prediction)\n",
    "\n",
    "print(\"Predictions concatenations:\")\n",
    "predictions = pd.concat(predictions, axis=0)\n",
    "predictions\n"
   ]
  },
  {
   "cell_type": "code",
   "execution_count": null,
   "metadata": {},
   "outputs": [],
   "source": [
    "from rnafold.submit import duplicate_xyz_columns\n",
    "\n",
    "submission = duplicate_xyz_columns(predictions)\n",
    "submission"
   ]
  },
  {
   "cell_type": "code",
   "execution_count": null,
   "metadata": {},
   "outputs": [],
   "source": [
    "submission.to_csv(\"submission.csv\", index=False)\n",
    "print(\"Submission exported as CSV.\")"
   ]
  },
  {
   "cell_type": "code",
   "execution_count": null,
   "metadata": {},
   "outputs": [],
   "source": []
  }
 ],
 "metadata": {
  "kernelspec": {
   "display_name": "rnafold-EmfcN2Fs-py3.12",
   "language": "python",
   "name": "python3"
  },
  "language_info": {
   "codemirror_mode": {
    "name": "ipython",
    "version": 3
   },
   "file_extension": ".py",
   "mimetype": "text/x-python",
   "name": "python",
   "nbconvert_exporter": "python",
   "pygments_lexer": "ipython3",
   "version": "3.12.4"
  }
 },
 "nbformat": 4,
 "nbformat_minor": 2
}
