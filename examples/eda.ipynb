{
 "cells": [
  {
   "cell_type": "code",
   "execution_count": null,
   "metadata": {},
   "outputs": [],
   "source": [
    "import pandas as pd\n",
    "from pathlib import Path"
   ]
  },
  {
   "cell_type": "code",
   "execution_count": null,
   "metadata": {},
   "outputs": [],
   "source": [
    "p = Path(\"../data/\")\n",
    "files = list(p.glob(\"*.csv\"))\n",
    "sorted(files)"
   ]
  },
  {
   "cell_type": "code",
   "execution_count": null,
   "metadata": {},
   "outputs": [],
   "source": [
    "for file in files:\n",
    "    df = pd.read_csv(file)\n",
    "    print(file, \":\", df.shape)"
   ]
  },
  {
   "cell_type": "markdown",
   "metadata": {},
   "source": [
    "# Sequences\n"
   ]
  },
  {
   "cell_type": "markdown",
   "metadata": {},
   "source": [
    "Columns:\n",
    "\n",
    "- target_id: unique identifier\n",
    "- sequence\n",
    "- temporal_cutoff\n",
    "- description\n",
    "- all_sequences\n"
   ]
  },
  {
   "cell_type": "code",
   "execution_count": null,
   "metadata": {},
   "outputs": [],
   "source": [
    "from rnafold.report import report\n",
    "\n",
    "report()"
   ]
  },
  {
   "cell_type": "code",
   "execution_count": null,
   "metadata": {},
   "outputs": [],
   "source": [
    "from rnafold.config import Settings\n",
    "\n",
    "sequences = pd.read_csv(Settings.sequences.test)\n",
    "sequences"
   ]
  },
  {
   "cell_type": "code",
   "execution_count": null,
   "metadata": {},
   "outputs": [],
   "source": [
    "# Get one sample\n",
    "ROW = 0\n",
    "\n",
    "sample = sequences.iloc[ROW].to_dict()\n",
    "sample"
   ]
  },
  {
   "cell_type": "markdown",
   "metadata": {},
   "source": [
    "# Submission\n"
   ]
  },
  {
   "cell_type": "code",
   "execution_count": null,
   "metadata": {},
   "outputs": [],
   "source": [
    "submission = pd.read_csv(p / \"sample_submission.csv\")\n",
    "submission"
   ]
  },
  {
   "cell_type": "code",
   "execution_count": null,
   "metadata": {},
   "outputs": [],
   "source": [
    "labels_val = pd.read_csv(Settings.labels.val)\n",
    "labels_val"
   ]
  },
  {
   "cell_type": "code",
   "execution_count": null,
   "metadata": {},
   "outputs": [],
   "source": [
    "labels_train = pd.read_csv(Settings.labels.train)\n",
    "labels_train"
   ]
  },
  {
   "cell_type": "code",
   "execution_count": null,
   "metadata": {},
   "outputs": [],
   "source": [
    "labels_train[labels_train.isna().sum(axis=1) > 0]"
   ]
  },
  {
   "cell_type": "markdown",
   "metadata": {},
   "source": [
    "- there are NaN values in the train dataset -> to investigate"
   ]
  },
  {
   "cell_type": "code",
   "execution_count": null,
   "metadata": {},
   "outputs": [],
   "source": [
    "import pandas as pd\n",
    "import numpy as np\n",
    "\n",
    "df = labels_train\n",
    "\n",
    "# Define N\n",
    "N = 5\n",
    "\n",
    "# Identify rows with NaN\n",
    "nan_indices = df.index[df.isna().any(axis=1)]\n",
    "\n",
    "# Get the range of indices to keep\n",
    "keep_indices = set()\n",
    "for idx in nan_indices:\n",
    "    for offset in range(-N, N + 1):  # Include N rows before and after\n",
    "        new_idx = idx + offset\n",
    "        if 0 <= new_idx < len(df):  # Ensure within bounds\n",
    "            keep_indices.add(new_idx)\n",
    "\n",
    "# Extract the sub-dataframe\n",
    "sub_df = df.loc[sorted(keep_indices)].reset_index(drop=True)\n",
    "\n",
    "print(sub_df)\n",
    "sub_df.to_csv(\"weird.csv\")"
   ]
  },
  {
   "cell_type": "code",
   "execution_count": null,
   "metadata": {},
   "outputs": [],
   "source": []
  }
 ],
 "metadata": {
  "kernelspec": {
   "display_name": "rnafold-EmfcN2Fs-py3.12",
   "language": "python",
   "name": "python3"
  },
  "language_info": {
   "codemirror_mode": {
    "name": "ipython",
    "version": 3
   },
   "file_extension": ".py",
   "mimetype": "text/x-python",
   "name": "python",
   "nbconvert_exporter": "python",
   "pygments_lexer": "ipython3",
   "version": "3.12.4"
  }
 },
 "nbformat": 4,
 "nbformat_minor": 2
}
