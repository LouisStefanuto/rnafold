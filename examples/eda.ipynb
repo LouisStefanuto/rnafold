{
 "cells": [
  {
   "cell_type": "code",
   "execution_count": null,
   "metadata": {},
   "outputs": [],
   "source": [
    "from pathlib import Path\n",
    "\n",
    "import pandas as pd"
   ]
  },
  {
   "cell_type": "code",
   "execution_count": null,
   "metadata": {},
   "outputs": [],
   "source": [
    "from pydantic import BaseModel, FilePath\n",
    "\n",
    "from rnafold.baseconfig import BaseConfig\n",
    "\n",
    "\n",
    "class SequenceFiles(BaseModel):\n",
    "    train: FilePath\n",
    "    val: FilePath\n",
    "    test: FilePath\n",
    "\n",
    "\n",
    "class LabelsFiles(BaseModel):\n",
    "    train: FilePath\n",
    "    val: FilePath\n",
    "\n",
    "\n",
    "class Files(BaseModel):\n",
    "    sequences: SequenceFiles\n",
    "\n",
    "\n",
    "class Tools(BaseModel):\n",
    "    usalign: FilePath\n",
    "\n",
    "\n",
    "class DataConfig(BaseConfig):\n",
    "    sequences: SequenceFiles\n",
    "    labels: LabelsFiles\n",
    "    submission: FilePath\n",
    "    tools: Tools\n",
    "\n",
    "\n",
    "data_config = DataConfig.load_from_yaml(\"../config/data_local.yml\")\n",
    "data_config"
   ]
  },
  {
   "cell_type": "code",
   "execution_count": null,
   "metadata": {},
   "outputs": [],
   "source": [
    "p = Path(\"../data/\")\n",
    "files = list(p.glob(\"*.csv\"))\n",
    "sorted(files)"
   ]
  },
  {
   "cell_type": "code",
   "execution_count": null,
   "metadata": {},
   "outputs": [],
   "source": [
    "for file in sorted(files):\n",
    "    df = pd.read_csv(file)\n",
    "    print(file, \":\", df.shape)"
   ]
  },
  {
   "cell_type": "markdown",
   "metadata": {},
   "source": [
    "# Sequences\n"
   ]
  },
  {
   "cell_type": "markdown",
   "metadata": {},
   "source": [
    "Columns:\n",
    "\n",
    "- target_id: unique identifier\n",
    "- sequence\n",
    "- temporal_cutoff\n",
    "- description\n",
    "- all_sequences\n"
   ]
  },
  {
   "cell_type": "code",
   "execution_count": null,
   "metadata": {},
   "outputs": [],
   "source": [
    "from rnafold.report import report\n",
    "\n",
    "report()"
   ]
  },
  {
   "cell_type": "code",
   "execution_count": null,
   "metadata": {},
   "outputs": [],
   "source": [
    "from rnafold.dataset import load_sequences\n",
    "\n",
    "sequences_train = load_sequences(\"../data/train_sequences.csv\")\n",
    "sequences_test = load_sequences(\"../data/test_sequences.csv\")"
   ]
  },
  {
   "cell_type": "code",
   "execution_count": null,
   "metadata": {},
   "outputs": [],
   "source": [
    "# Get one sample\n",
    "ROW = 4\n",
    "\n",
    "sample = sequences_train.iloc[ROW].to_dict()\n",
    "sample"
   ]
  },
  {
   "cell_type": "code",
   "execution_count": null,
   "metadata": {},
   "outputs": [],
   "source": [
    "from rnafold.dataset import load_extra_sequences\n",
    "\n",
    "records = load_extra_sequences(fasta_string=sample[\"all_sequences\"])\n",
    "records"
   ]
  },
  {
   "cell_type": "markdown",
   "metadata": {},
   "source": [
    "# Submission\n"
   ]
  },
  {
   "cell_type": "code",
   "execution_count": null,
   "metadata": {},
   "outputs": [],
   "source": [
    "submission = pd.read_csv(\"../data/sample_submission.csv\")\n",
    "submission"
   ]
  },
  {
   "cell_type": "markdown",
   "metadata": {},
   "source": [
    "- there are NaN values in the train dataset -> to investigate\n"
   ]
  },
  {
   "cell_type": "code",
   "execution_count": null,
   "metadata": {},
   "outputs": [],
   "source": [
    "from rnafold.dataset import load_labels\n",
    "\n",
    "df = load_labels(\"../data/train_labels.csv\")\n",
    "\n",
    "# Include N rows before and after\n",
    "N = 0\n",
    "\n",
    "# Identify rows with NaN\n",
    "nan_indices = df.index[df.isna().any(axis=1)]\n",
    "\n",
    "# Get the range of indices to keep\n",
    "keep_indices = set()\n",
    "for idx in nan_indices:\n",
    "    for offset in range(-N, N + 1):\n",
    "        new_idx = idx + offset\n",
    "        if 0 <= new_idx < len(df):  # Ensure within bounds\n",
    "            keep_indices.add(new_idx)\n",
    "\n",
    "# Extract the sub-dataframe\n",
    "sub_df = df.loc[sorted(keep_indices)].reset_index(drop=True)\n",
    "\n",
    "print(sub_df)\n",
    "# sub_df.to_csv(\"nan_in_train.csv\")"
   ]
  },
  {
   "cell_type": "code",
   "execution_count": null,
   "metadata": {},
   "outputs": [],
   "source": []
  }
 ],
 "metadata": {
  "kernelspec": {
   "display_name": "rnafold-EmfcN2Fs-py3.10",
   "language": "python",
   "name": "python3"
  },
  "language_info": {
   "codemirror_mode": {
    "name": "ipython",
    "version": 3
   },
   "file_extension": ".py",
   "mimetype": "text/x-python",
   "name": "python",
   "nbconvert_exporter": "python",
   "pygments_lexer": "ipython3",
   "version": "3.10.16"
  }
 },
 "nbformat": 4,
 "nbformat_minor": 2
}
