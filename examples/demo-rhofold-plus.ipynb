{
 "cells": [
  {
   "cell_type": "code",
   "execution_count": null,
   "metadata": {},
   "outputs": [],
   "source": [
    "import pandas as pd\n",
    "\n",
    "from rnafold.rhofold.main import process_csv\n",
    "\n",
    "# Example usage:\n",
    "csv_path = \"../data/train_sequences.csv\"\n",
    "output_folder = \"fastas\"  # Folder to store FASTA files\n",
    "\n",
    "fasta = pd.read_csv(csv_path)\n",
    "process_csv(fasta, output_folder)"
   ]
  },
  {
   "cell_type": "code",
   "execution_count": null,
   "metadata": {},
   "outputs": [],
   "source": [
    "from rnafold.rhofold.main import predict_rna_structure\n",
    "\n",
    "predict_rna_structure(\n",
    "    input_fas=\"./fastas/1EIY_C.fasta\",\n",
    "    output_dir=\"./outputs_rhofold/1EIY_C\",\n",
    "    relax_steps=1,\n",
    ")"
   ]
  },
  {
   "cell_type": "code",
   "execution_count": null,
   "metadata": {},
   "outputs": [],
   "source": [
    "from rnafold.pdb import read_pdb\n",
    "\n",
    "structure = read_pdb(\"\", \"./outputs_rhofold/1EIY_C/relaxed_1_model.pdb\")\n",
    "structure.header"
   ]
  },
  {
   "cell_type": "markdown",
   "metadata": {},
   "source": [
    "\"In particular, three feed-forward layers were used for distance prediction to predict the pairwise distance between the P, C4 and N atoms. The distance was divided into 40 bins, where the first and last bins indicate <2 Å and >38 Å, respectively, and the distances between 2 Å and 38 Å were evenly divided into 36 bins.\"\n",
    "\n",
    "- dist_n: pairwise distance between the N atoms\n",
    "- dist_p: pairwise distance between the P atoms\n",
    "- dist_c: pairwise distance between the C4 atoms\n",
    "- ss_prob_map: secondary structure probability map, showing the likelihood of base pairing or RNA secondary structure interactions. Symmetric.\n",
    "- plddt: confidence per residue\n"
   ]
  },
  {
   "cell_type": "code",
   "execution_count": null,
   "metadata": {},
   "outputs": [],
   "source": [
    "from rnafold.rhofold.distogram import RhoFoldDistogram\n",
    "\n",
    "distogram = RhoFoldDistogram(\n",
    "    \"/Users/lstefanu/Documents/perso/kaggle/rnafold/examples/outputs_rhofold/1EIY_C/results.npz\"\n",
    ")\n",
    "distogram.summary"
   ]
  },
  {
   "cell_type": "code",
   "execution_count": null,
   "metadata": {},
   "outputs": [],
   "source": [
    "# Example usage:\n",
    "distogram.plot_distance_distribution(\"N\")\n",
    "distogram.plot_distance_distribution(\"P\")\n",
    "distogram.plot_distance_distribution(\"C\")\n",
    "distogram.plot_secondary_structure()\n",
    "distogram.plot_confidence()"
   ]
  },
  {
   "cell_type": "code",
   "execution_count": null,
   "metadata": {},
   "outputs": [],
   "source": [
    "from rnafold.pdb import parse_pdb_to_df\n",
    "\n",
    "i = \"1EIY_C\"\n",
    "\n",
    "predict_relax_df = parse_pdb_to_df(f\"./outputs_rhofold/{i}/relaxed_1_model.pdb\", i)\n",
    "predict_unrelax_df = parse_pdb_to_df(f\"./outputs_rhofold/{i}/unrelaxed_model.pdb\", i)\n",
    "\n",
    "assert len(predict_relax_df) == 1\n",
    "assert len(predict_unrelax_df) == 1\n",
    "\n",
    "predict_relax_df = predict_relax_df[0]\n",
    "predict_unrelax_df = predict_unrelax_df[0]"
   ]
  },
  {
   "cell_type": "code",
   "execution_count": null,
   "metadata": {},
   "outputs": [],
   "source": [
    "predict_relax_df"
   ]
  },
  {
   "cell_type": "code",
   "execution_count": null,
   "metadata": {},
   "outputs": [],
   "source": []
  }
 ],
 "metadata": {
  "kaggle": {
   "accelerator": "none",
   "dataSources": [
    {
     "databundleVersionId": 11403143,
     "sourceId": 87793,
     "sourceType": "competition"
    },
    {
     "datasetId": 6869784,
     "sourceId": 11030548,
     "sourceType": "datasetVersion"
    },
    {
     "sourceId": 224830487,
     "sourceType": "kernelVersion"
    },
    {
     "datasetId": 6742586,
     "sourceId": 10855324,
     "sourceType": "datasetVersion"
    }
   ],
   "dockerImageVersionId": 30918,
   "isGpuEnabled": false,
   "isInternetEnabled": true,
   "language": "python",
   "sourceType": "notebook"
  },
  "kernelspec": {
   "display_name": "rnafold-EmfcN2Fs-py3.10",
   "language": "python",
   "name": "python3"
  },
  "language_info": {
   "codemirror_mode": {
    "name": "ipython",
    "version": 3
   },
   "file_extension": ".py",
   "mimetype": "text/x-python",
   "name": "python",
   "nbconvert_exporter": "python",
   "pygments_lexer": "ipython3",
   "version": "3.10.16"
  }
 },
 "nbformat": 4,
 "nbformat_minor": 4
}
